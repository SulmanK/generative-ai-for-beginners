{
 "cells": [
  {
   "cell_type": "code",
   "execution_count": 5,
   "metadata": {},
   "outputs": [
    {
     "name": "stdout",
     "output_type": "stream",
     "text": [
      "There are many possible causes of foot pain, ranging from minor injuries to more serious conditions. Some common causes of foot pain include:\n",
      "\n",
      "1. Sprains or strains: These can occur from overuse or sudden twisting of the foot.\n",
      "\n",
      "2. Plantar fasciitis: This is a condition that causes pain in the heel and bottom of the foot, usually due to inflammation of the plantar fascia.\n",
      "\n",
      "3. Tendinitis: This is inflammation of the tendons in the foot, which can cause pain and swelling.\n",
      "\n",
      "4. Arthritis: This is a condition that causes inflammation and pain in the joints, including those in the feet.\n",
      "\n",
      "5. Morton's neuroma: This is a condition that causes pain and numbness in the ball of the foot, usually due to a thickening of the tissue around the nerves.\n",
      "\n",
      "If your foot pain is severe or persistent, it is important to see a doctor for an evaluation and proper diagnosis.\n"
     ]
    }
   ],
   "source": [
    "from openai import AzureOpenAI\n",
    "import os\n",
    "import dotenv\n",
    "\n",
    "# import dotenv\n",
    "dotenv.load_dotenv()\n",
    "\n",
    "# configure Azure OpenAI service client \n",
    "client = AzureOpenAI(\n",
    "  azure_endpoint = os.environ[\"AZURE_OPENAI_ENDPOINT\"], \n",
    "  api_key=os.environ['AZURE_OPENAI_API_KEY'],  \n",
    "  api_version = \"2023-10-01-preview\"\n",
    "  )\n",
    "\n",
    "deployment=os.environ['AZURE_OPENAI_DEPLOYMENT']\n",
    "\n",
    "# add your completion code\n",
    "prompt =  \" My foot hurts, what can be wrong?\"\n",
    "\n",
    "messages = [\n",
    "      {\"role\":\"system\", \"content\":\"I'm a doctor, specialist on surgery\"},\n",
    "      {\"role\":\"user\",\"content\":text_prompt},]\n",
    "# make completion\n",
    "completion = client.chat.completions.create(model=deployment, messages=messages, max_tokens = 500, temperature = 0.5)\n",
    "\n",
    "print(completion.choices[0].message.content)"
   ]
  }
 ],
 "metadata": {
  "kernelspec": {
   "display_name": "Python 3",
   "language": "python",
   "name": "python3"
  },
  "language_info": {
   "codemirror_mode": {
    "name": "ipython",
    "version": 3
   },
   "file_extension": ".py",
   "mimetype": "text/x-python",
   "name": "python",
   "nbconvert_exporter": "python",
   "pygments_lexer": "ipython3",
   "version": "3.10.13"
  },
  "orig_nbformat": 4
 },
 "nbformat": 4,
 "nbformat_minor": 2
}
